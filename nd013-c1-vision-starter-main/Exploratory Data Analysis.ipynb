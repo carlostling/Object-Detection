{
 "cells": [
  {
   "cell_type": "markdown",
   "source": [
    "# Explore the dataset\n",
    "\n",
    "\n",
    "In this notebook, we will perform an EDA (Exploratory Data Analysis) on the processed Waymo dataset (data in the `processed` folder). In the first part, you will create a function to display "
   ],
   "metadata": {}
  },
  {
   "cell_type": "code",
   "execution_count": null,
   "source": [
    "from utils import get_dataset\r\n",
    "import matplotlib.pyplot as plt\r\n",
    "import matplotlib.image as mpimg\r\n",
    "from matplotlib.patches import Rectangle"
   ],
   "outputs": [],
   "metadata": {}
  },
  {
   "cell_type": "code",
   "execution_count": null,
   "source": [
    "dataset = get_dataset(\"PROCESSED TF RECORD PATH\")"
   ],
   "outputs": [],
   "metadata": {}
  },
  {
   "cell_type": "markdown",
   "source": [
    "## Write a function to display an image and the bounding boxes\n",
    "\n",
    "Implement the `display_instances` function below. This function takes a batch as an input and display an image with its corresponding bounding boxes. The only requirement is that the classes should be color coded (eg, vehicles in red, pedestrians in blue, cyclist in green)."
   ],
   "metadata": {}
  },
  {
   "cell_type": "code",
   "execution_count": null,
   "source": [
    "def display_instances(batch):\r\n",
    "    \"\"\"\r\n",
    "    This function takes a batch from the dataset and display the image with \r\n",
    "    the associated bounding boxes.\r\n",
    "    \"\"\"\r\n",
    "    color_map = {\r\n",
    "                1:[1,0,0], # Vehicle:Red\r\n",
    "                2:[0,1,0], # Pedestrian:Blue\r\n",
    "                4:[0,0,1]} # Cyclist:Green\r\n",
    "\r\n",
    "    \r\n",
    "    img = mpimg.imread(\"PATH\")\r\n",
    "    fig, ax = plt.subplots()\r\n",
    "    imgplot = ax.imshow(img)\r\n",
    "\r\n",
    "    rect = Rectangle((\"anchorX\",\"anchorY\"), \"xwidth\", \"yheight\", linewidth=1, edgecolor=color_map[\"class\"], facecolor='none'))\r\n",
    "    ax.add_patch(rect)\r\n",
    "    plt.show()\r\n",
    "\r\n",
    "\r\n",
    "    # ADD CODE HERE"
   ],
   "outputs": [],
   "metadata": {}
  },
  {
   "cell_type": "markdown",
   "source": [
    "## Display 10 images \n",
    "\n",
    "Using the dataset created in the second cell and the function you just coded, display 10 random images with the associated bounding boxes. You can use the methods `take` and `shuffle` on the dataset."
   ],
   "metadata": {}
  },
  {
   "cell_type": "code",
   "execution_count": null,
   "source": [
    "## STUDENT SOLUTION HERE"
   ],
   "outputs": [],
   "metadata": {}
  },
  {
   "cell_type": "markdown",
   "source": [
    "## Additional EDA\n",
    "\n",
    "In this last part, you are free to perform any additional analysis of the dataset. What else would like to know about the data?\n",
    "For example, think about data distribution. So far, you have only looked at a single file..."
   ],
   "metadata": {}
  },
  {
   "cell_type": "code",
   "execution_count": null,
   "source": [],
   "outputs": [],
   "metadata": {}
  }
 ],
 "metadata": {
  "kernelspec": {
   "display_name": "Python 3",
   "language": "python",
   "name": "python3"
  },
  "language_info": {
   "codemirror_mode": {
    "name": "ipython",
    "version": 3
   },
   "file_extension": ".py",
   "mimetype": "text/x-python",
   "name": "python",
   "nbconvert_exporter": "python",
   "pygments_lexer": "ipython3",
   "version": "3.6.9"
  }
 },
 "nbformat": 4,
 "nbformat_minor": 4
}